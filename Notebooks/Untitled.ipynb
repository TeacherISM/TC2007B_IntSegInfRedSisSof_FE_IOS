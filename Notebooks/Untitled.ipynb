{
 "cells": [
  {
   "cell_type": "markdown",
   "id": "c6803d34",
   "metadata": {},
   "source": [
    "# Daniel Rong Chen"
   ]
  },
  {
   "cell_type": "code",
   "execution_count": 2,
   "id": "87ffb102",
   "metadata": {},
   "outputs": [
    {
     "name": "stdout",
     "output_type": "stream",
     "text": [
      "Hello world ejecutado por python.\n"
     ]
    }
   ],
   "source": [
    "print(\"Hello world ejecutado por python.\")"
   ]
  },
  {
   "cell_type": "code",
   "execution_count": null,
   "id": "b58c118b",
   "metadata": {},
   "outputs": [],
   "source": []
  }
 ],
 "metadata": {
  "kernelspec": {
   "display_name": "Python 3 (ipykernel)",
   "language": "python",
   "name": "python3"
  },
  "language_info": {
   "codemirror_mode": {
    "name": "ipython",
    "version": 3
   },
   "file_extension": ".py",
   "mimetype": "text/x-python",
   "name": "python",
   "nbconvert_exporter": "python",
   "pygments_lexer": "ipython3",
   "version": "3.9.13"
  }
 },
 "nbformat": 4,
 "nbformat_minor": 5
}
