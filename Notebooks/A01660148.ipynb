{
 "cells": [
  {
   "cell_type": "markdown",
   "id": "0642eb79-0403-4be0-a83b-03b873650e68",
   "metadata": {},
   "source": [
    "# Pablo Ceballos Gutiérrez"
   ]
  },
  {
   "cell_type": "code",
   "execution_count": 2,
   "id": "bb9fddd3-8987-4913-8db6-1d2af1f5f461",
   "metadata": {},
   "outputs": [
    {
     "name": "stdout",
     "output_type": "stream",
     "text": [
      "Hola mundo en IOS\n"
     ]
    }
   ],
   "source": [
    "print(\"Hola mundo en IOS\")"
   ]
  },
  {
   "cell_type": "code",
   "execution_count": null,
   "id": "c2d8190c-5d3d-4f60-b400-a91de3f90426",
   "metadata": {},
   "outputs": [],
   "source": []
  }
 ],
 "metadata": {
  "kernelspec": {
   "display_name": "Python 3 (ipykernel)",
   "language": "python",
   "name": "python3"
  },
  "language_info": {
   "codemirror_mode": {
    "name": "ipython",
    "version": 3
   },
   "file_extension": ".py",
   "mimetype": "text/x-python",
   "name": "python",
   "nbconvert_exporter": "python",
   "pygments_lexer": "ipython3",
   "version": "3.10.7"
  }
 },
 "nbformat": 4,
 "nbformat_minor": 5
}
