{
 "cells": [
  {
   "cell_type": "markdown",
   "id": "72e96a6f",
   "metadata": {},
   "source": [
    "# Josué Fuentes"
   ]
  },
  {
   "cell_type": "code",
   "execution_count": 1,
   "id": "81de1b78",
   "metadata": {},
   "outputs": [
    {
     "name": "stdout",
     "output_type": "stream",
     "text": [
      "Suma: 15\n",
      "Resta: 5\n"
     ]
    }
   ],
   "source": [
    "# Suma y resta\n",
    "# Operaciones de suma y resta\n",
    "numero1 = 10\n",
    "numero2 = 5\n",
    "\n",
    "# Suma\n",
    "resultado_suma = numero1 + numero2\n",
    "print(\"Suma:\", resultado_suma)\n",
    "\n",
    "# Resta\n",
    "resultado_resta = numero1 - numero2\n",
    "print(\"Resta:\", resultado_resta)\n"
   ]
  },
  {
   "cell_type": "code",
   "execution_count": null,
   "id": "8633a1a3",
   "metadata": {},
   "outputs": [],
   "source": []
  }
 ],
 "metadata": {
  "kernelspec": {
   "display_name": "Python 3 (ipykernel)",
   "language": "python",
   "name": "python3"
  },
  "language_info": {
   "codemirror_mode": {
    "name": "ipython",
    "version": 3
   },
   "file_extension": ".py",
   "mimetype": "text/x-python",
   "name": "python",
   "nbconvert_exporter": "python",
   "pygments_lexer": "ipython3",
   "version": "3.9.13"
  }
 },
 "nbformat": 4,
 "nbformat_minor": 5
}
