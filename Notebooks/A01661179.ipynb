{
 "cells": [
  {
   "cell_type": "markdown",
   "id": "ce0a0213-e982-44f9-8775-5930a508b140",
   "metadata": {},
   "source": [
    "#Sebastián Íñigo López"
   ]
  },
  {
   "cell_type": "code",
   "execution_count": 1,
   "id": "d7ffdb5a-4537-45e2-846e-98b8141a0b71",
   "metadata": {},
   "outputs": [
    {
     "name": "stdout",
     "output_type": "stream",
     "text": [
      "89\n"
     ]
    }
   ],
   "source": [
    "x=89\n",
    "print(x)"
   ]
  },
  {
   "cell_type": "code",
   "execution_count": null,
   "id": "521673cb-3ddd-4e81-8300-9922f074eb60",
   "metadata": {},
   "outputs": [],
   "source": []
  }
 ],
 "metadata": {
  "kernelspec": {
   "display_name": "Python 3 (ipykernel)",
   "language": "python",
   "name": "python3"
  },
  "language_info": {
   "codemirror_mode": {
    "name": "ipython",
    "version": 3
   },
   "file_extension": ".py",
   "mimetype": "text/x-python",
   "name": "python",
   "nbconvert_exporter": "python",
   "pygments_lexer": "ipython3",
   "version": "3.10.3"
  }
 },
 "nbformat": 4,
 "nbformat_minor": 5
}
