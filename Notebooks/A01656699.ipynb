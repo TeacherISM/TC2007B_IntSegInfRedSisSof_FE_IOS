{
 "cells": [
  {
   "cell_type": "markdown",
   "id": "7884b3fc",
   "metadata": {},
   "source": [
    "#  Jesús Alexander Meister Careaga\n",
    "### A01656699"
   ]
  },
  {
   "cell_type": "code",
   "execution_count": 1,
   "id": "9d70890b",
   "metadata": {},
   "outputs": [
    {
     "name": "stdout",
     "output_type": "stream",
     "text": [
      "360\n"
     ]
    }
   ],
   "source": [
    "x = 150\n",
    "y = 200\n",
    "print(x+y+10)"
   ]
  },
  {
   "cell_type": "markdown",
   "id": "a05377cb",
   "metadata": {},
   "source": [
    "* Prueba de segundo Notebook"
   ]
  },
  {
   "cell_type": "code",
   "execution_count": null,
   "id": "d0ae09ed",
   "metadata": {},
   "outputs": [],
   "source": []
  }
 ],
 "metadata": {
  "kernelspec": {
   "display_name": "Python 3 (ipykernel)",
   "language": "python",
   "name": "python3"
  },
  "language_info": {
   "codemirror_mode": {
    "name": "ipython",
    "version": 3
   },
   "file_extension": ".py",
   "mimetype": "text/x-python",
   "name": "python",
   "nbconvert_exporter": "python",
   "pygments_lexer": "ipython3",
   "version": "3.9.13"
  }
 },
 "nbformat": 4,
 "nbformat_minor": 5
}
