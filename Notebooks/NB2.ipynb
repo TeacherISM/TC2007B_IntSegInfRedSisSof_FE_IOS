{
 "cells": [
  {
   "cell_type": "markdown",
   "id": "bebd111e",
   "metadata": {},
   "source": [
    "# Swift & OpenApi \n",
    "[Swift and OpenAPI](https://developer.apple.com/videos/play/wwdc2023/10171/)\n",
    "### Create the project directory\n",
    "```\n",
    "mkdir A00XXXXXX\n",
    "cd A00XXXXXX/\n",
    "```\n",
    "# Swift Client with Swagger Codegen\n",
    "### Install Java 11+\n",
    "### [Install Swagger Codegen by following the instructions on their GitHub repository](https://github.com/swagger-api/swagger-codegen)\n",
    "```\n",
    "brew install swagger-codegen\n",
    "```\n",
    "### Install Java 11+\n",
    "```\n",
    "curl -H 'Accept: application/json; indent=4' -u A00XXXXXX:password http://localhost:8000/api/schema/\n",
    "```\n",
    "### Run the command to usage swagger codegen\n",
    "```\n",
    "swagger-codegen generate -i path/to/your/openapi-spec.yaml -l swift5 -o path/to/output/directory\n",
    "```\n"
   ]
  },
  {
   "cell_type": "code",
   "execution_count": null,
   "id": "26df91a3",
   "metadata": {},
   "outputs": [],
   "source": []
  }
 ],
 "metadata": {
  "kernelspec": {
   "display_name": "Python 3 (ipykernel)",
   "language": "python",
   "name": "python3"
  },
  "language_info": {
   "codemirror_mode": {
    "name": "ipython",
    "version": 3
   },
   "file_extension": ".py",
   "mimetype": "text/x-python",
   "name": "python",
   "nbconvert_exporter": "python",
   "pygments_lexer": "ipython3",
   "version": "3.9.6"
  }
 },
 "nbformat": 4,
 "nbformat_minor": 5
}
