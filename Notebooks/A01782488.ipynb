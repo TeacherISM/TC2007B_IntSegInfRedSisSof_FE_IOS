{
 "cells": [
  {
   "cell_type": "markdown",
   "id": "edcfb213",
   "metadata": {},
   "source": [
    "# Raúl Armando Vélez Robles\n",
    "### Usuario de github: Raul-VR"
   ]
  },
  {
   "cell_type": "code",
   "execution_count": 4,
   "id": "a9bd230d",
   "metadata": {},
   "outputs": [
    {
     "name": "stdout",
     "output_type": "stream",
     "text": [
      "Here we go again\n",
      "5\n"
     ]
    }
   ],
   "source": [
    "print(\"Here we go again\")\n",
    "\n",
    "print(3+2)"
   ]
  },
  {
   "cell_type": "code",
   "execution_count": null,
   "id": "3c08dc65",
   "metadata": {},
   "outputs": [],
   "source": []
  },
  {
   "cell_type": "code",
   "execution_count": null,
   "id": "a4c86539",
   "metadata": {},
   "outputs": [],
   "source": []
  }
 ],
 "metadata": {
  "kernelspec": {
   "display_name": "Python 3 (ipykernel)",
   "language": "python",
   "name": "python3"
  },
  "language_info": {
   "codemirror_mode": {
    "name": "ipython",
    "version": 3
   },
   "file_extension": ".py",
   "mimetype": "text/x-python",
   "name": "python",
   "nbconvert_exporter": "python",
   "pygments_lexer": "ipython3",
   "version": "3.9.13"
  }
 },
 "nbformat": 4,
 "nbformat_minor": 5
}
