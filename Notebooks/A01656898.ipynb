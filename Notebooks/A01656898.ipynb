{
 "cells": [
  {
   "cell_type": "markdown",
   "id": "85833f47",
   "metadata": {},
   "source": [
    "# Ricardo Campos Luna\n",
    "\n",
    "Código introductorio en el lenguaje de programación Python. (A01656898)"
   ]
  },
  {
   "cell_type": "code",
   "execution_count": 1,
   "id": "282f69ce",
   "metadata": {},
   "outputs": [
    {
     "name": "stdout",
     "output_type": "stream",
     "text": [
      "¿Cuál es tu nombre? >>> Ricardo\n",
      "\n"
     ]
    }
   ],
   "source": [
    "name = input(\"¿Cuál es tu nombre? >>> \")"
   ]
  },
  {
   "cell_type": "code",
   "execution_count": 2,
   "id": "eb981b06",
   "metadata": {},
   "outputs": [
    {
     "name": "stdout",
     "output_type": "stream",
     "text": [
      "Hola Ricardo, bienvenido al mundo de la programación en el lenguaje Python.\n"
     ]
    }
   ],
   "source": [
    "print(f\"Hola {name}, bienvenido al mundo de la programación en el lenguaje Python.\")"
   ]
  },
  {
   "cell_type": "code",
   "execution_count": 3,
   "id": "762478c6",
   "metadata": {},
   "outputs": [
    {
     "data": {
      "text/plain": [
       "complex"
      ]
     },
     "execution_count": 3,
     "metadata": {},
     "output_type": "execute_result"
    }
   ],
   "source": [
    "type(2 + 5j)"
   ]
  },
  {
   "cell_type": "code",
   "execution_count": null,
   "id": "af163b81",
   "metadata": {},
   "outputs": [],
   "source": []
  }
 ],
 "metadata": {
  "kernelspec": {
   "display_name": "Python 3 (ipykernel)",
   "language": "python",
   "name": "python3"
  },
  "language_info": {
   "codemirror_mode": {
    "name": "ipython",
    "version": 3
   },
   "file_extension": ".py",
   "mimetype": "text/x-python",
   "name": "python",
   "nbconvert_exporter": "python",
   "pygments_lexer": "ipython3",
   "version": "3.9.13"
  }
 },
 "nbformat": 4,
 "nbformat_minor": 5
}
