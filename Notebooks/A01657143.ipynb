{
 "cells": [
  {
   "cell_type": "markdown",
   "id": "13dba024-b44d-408a-9b20-4c6e25ec0585",
   "metadata": {},
   "source": [
    "##Humberto Ivan Ulloa Cardona "
   ]
  },
  {
   "cell_type": "code",
   "execution_count": 1,
   "id": "bfe7b58d-a628-476c-a9b9-888a15f2335f",
   "metadata": {},
   "outputs": [
    {
     "name": "stdout",
     "output_type": "stream",
     "text": [
      "30\n"
     ]
    }
   ],
   "source": [
    "c= 10\n",
    "b= 20\n",
    "print(b + c)"
   ]
  },
  {
   "cell_type": "code",
   "execution_count": null,
   "id": "f057ee95-418f-4e77-86f0-53ab67f8eaea",
   "metadata": {},
   "outputs": [],
   "source": []
  },
  {
   "cell_type": "code",
   "execution_count": null,
   "id": "5e46ccf2-c720-4a90-aea6-422631912d11",
   "metadata": {},
   "outputs": [],
   "source": []
  }
 ],
 "metadata": {
  "kernelspec": {
   "display_name": "Python 3 (ipykernel)",
   "language": "python",
   "name": "python3"
  },
  "language_info": {
   "codemirror_mode": {
    "name": "ipython",
    "version": 3
   },
   "file_extension": ".py",
   "mimetype": "text/x-python",
   "name": "python",
   "nbconvert_exporter": "python",
   "pygments_lexer": "ipython3",
   "version": "3.11.3"
  }
 },
 "nbformat": 4,
 "nbformat_minor": 5
}
