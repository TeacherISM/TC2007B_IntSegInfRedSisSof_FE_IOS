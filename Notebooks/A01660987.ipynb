{
 "cells": [
  {
   "cell_type": "markdown",
   "id": "c3c9fb1a-8909-4b22-abbf-ee05d46a66c3",
   "metadata": {},
   "source": [
    "# Diego Andrés Figueroa Peart A01660987"
   ]
  },
  {
   "cell_type": "code",
   "execution_count": 1,
   "id": "6b464ea2-7b31-4c5a-a4df-361377f44e87",
   "metadata": {},
   "outputs": [
    {
     "name": "stdout",
     "output_type": "stream",
     "text": [
      "Hola, mundo!\n"
     ]
    }
   ],
   "source": [
    "print(\"Hola, mundo!\")"
   ]
  },
  {
   "cell_type": "code",
   "execution_count": null,
   "id": "ad5e41a9-75b6-48bb-b91d-89227c4833ae",
   "metadata": {},
   "outputs": [],
   "source": []
  }
 ],
 "metadata": {
  "kernelspec": {
   "display_name": "Python 3 (ipykernel)",
   "language": "python",
   "name": "python3"
  },
  "language_info": {
   "codemirror_mode": {
    "name": "ipython",
    "version": 3
   },
   "file_extension": ".py",
   "mimetype": "text/x-python",
   "name": "python",
   "nbconvert_exporter": "python",
   "pygments_lexer": "ipython3",
   "version": "3.11.2"
  }
 },
 "nbformat": 4,
 "nbformat_minor": 5
}
