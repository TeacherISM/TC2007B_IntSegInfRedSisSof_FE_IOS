{
 "cells": [
  {
   "cell_type": "markdown",
   "id": "bebd111e",
   "metadata": {},
   "source": [
    "# Swift & OpenApi \n",
    "[Swift and OpenAPI](https://developer.apple.com/videos/play/wwdc2023/10171/)\n",
    "## Swift Client with Swagger Codegen\n",
    "### Install Java 11+\n",
    "### [Install Swagger Codegen by following the instructions on their GitHub repository](https://github.com/swagger-api/swagger-codegen)\n",
    "```\n",
    "brew install swagger-codegen\n",
    "```\n",
    "### Create the personal project directory\n",
    "```\n",
    "mkdir A00XXXXXX\n",
    "cd A00XXXXXX/\n",
    "```\n",
    "### CURL the openAPI Specification (Review server is running)\n",
    "```\n",
    "curl -H 'Accept: application/json; indent=4' -u A00XXXXXX:password http://localhost:8000/api/schema/\n",
    "```\n",
    "### Run the command to usage swagger codegen\n",
    "```\n",
    "swagger-codegen generate -i http://localhost:8000/api/schema/ -l swift5 -o ./SEL4C_openAPI_iOS\n",
    "```\n",
    "### Add dependency to iOS\n",
    "```\n",
    "4.9.0\n",
    "https://github.com/Alamofire/Alamofire\n",
    "```"
   ]
  },
  {
   "cell_type": "code",
   "execution_count": null,
   "id": "26df91a3",
   "metadata": {},
   "outputs": [],
   "source": []
  }
 ],
 "metadata": {
  "kernelspec": {
   "display_name": "Python 3 (ipykernel)",
   "language": "python",
   "name": "python3"
  },
  "language_info": {
   "codemirror_mode": {
    "name": "ipython",
    "version": 3
   },
   "file_extension": ".py",
   "mimetype": "text/x-python",
   "name": "python",
   "nbconvert_exporter": "python",
   "pygments_lexer": "ipython3",
   "version": "3.9.6"
  }
 },
 "nbformat": 4,
 "nbformat_minor": 5
}
