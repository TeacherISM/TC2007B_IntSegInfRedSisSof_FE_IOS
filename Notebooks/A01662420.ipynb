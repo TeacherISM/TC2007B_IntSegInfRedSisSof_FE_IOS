{
 "cells": [
  {
   "cell_type": "markdown",
   "id": "ae8236a4-432a-4962-a56b-3499115b3f66",
   "metadata": {},
   "source": [
    "# Luis Gerardo Magaña Yáñez"
   ]
  },
  {
   "cell_type": "code",
   "execution_count": 1,
   "id": "a7d0a5cb-0897-4eb9-b57d-87ca31339288",
   "metadata": {},
   "outputs": [
    {
     "name": "stdout",
     "output_type": "stream",
     "text": [
      "Hola mundo\n"
     ]
    }
   ],
   "source": [
    "print (\"Hola mundo\")"
   ]
  },
  {
   "cell_type": "code",
   "execution_count": null,
   "id": "8cd8e0e1-58be-4f48-85b5-b063178b678f",
   "metadata": {},
   "outputs": [],
   "source": []
  }
 ],
 "metadata": {
  "kernelspec": {
   "display_name": "Python 3 (ipykernel)",
   "language": "python",
   "name": "python3"
  },
  "language_info": {
   "codemirror_mode": {
    "name": "ipython",
    "version": 3
   },
   "file_extension": ".py",
   "mimetype": "text/x-python",
   "name": "python",
   "nbconvert_exporter": "python",
   "pygments_lexer": "ipython3",
   "version": "3.11.4"
  }
 },
 "nbformat": 4,
 "nbformat_minor": 5
}
