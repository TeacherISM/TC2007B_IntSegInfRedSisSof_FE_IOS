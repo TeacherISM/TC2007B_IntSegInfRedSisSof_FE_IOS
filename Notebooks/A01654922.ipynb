{
 "cells": [
  {
   "cell_type": "markdown",
   "id": "84dff431-e381-4608-b1f3-0a950789fa20",
   "metadata": {},
   "source": [
    "#Juliette Trejo Ceballos "
   ]
  },
  {
   "cell_type": "code",
   "execution_count": 1,
   "id": "47aae44a-728a-4ab2-bc4d-25ee16cd8216",
   "metadata": {},
   "outputs": [
    {
     "name": "stdout",
     "output_type": "stream",
     "text": [
      "Holaaaa Mundo\n"
     ]
    }
   ],
   "source": [
    "print(\"Holaaaa Mundo\")\n"
   ]
  },
  {
   "cell_type": "code",
   "execution_count": null,
   "id": "80ea22c5-1afe-40b8-a8db-728c17df2305",
   "metadata": {},
   "outputs": [],
   "source": []
  }
 ],
 "metadata": {
  "kernelspec": {
   "display_name": "Python 3 (ipykernel)",
   "language": "python",
   "name": "python3"
  },
  "language_info": {
   "codemirror_mode": {
    "name": "ipython",
    "version": 3
   },
   "file_extension": ".py",
   "mimetype": "text/x-python",
   "name": "python",
   "nbconvert_exporter": "python",
   "pygments_lexer": "ipython3",
   "version": "3.11.2"
  }
 },
 "nbformat": 4,
 "nbformat_minor": 5
}
