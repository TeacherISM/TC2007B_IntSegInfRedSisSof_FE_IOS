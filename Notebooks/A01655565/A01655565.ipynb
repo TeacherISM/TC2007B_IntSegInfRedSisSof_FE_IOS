{
 "cells": [
  {
   "cell_type": "markdown",
   "id": "f18627c6-9cff-4d02-abfb-1e63cc11b62b",
   "metadata": {},
   "source": [
    "# Sofía Donlucas Bañuelos"
   ]
  },
  {
   "cell_type": "code",
   "execution_count": 1,
   "id": "f6643635-aa58-48b3-bdc0-4665f2787585",
   "metadata": {},
   "outputs": [
    {
     "name": "stdout",
     "output_type": "stream",
     "text": [
      "hola mundo ejecutando por python\n"
     ]
    }
   ],
   "source": [
    "print(\"hola mundo ejecutando por python\")"
   ]
  },
  {
   "cell_type": "code",
   "execution_count": null,
   "id": "34cc4b77-4e4b-4b8c-be07-fab23350dab6",
   "metadata": {},
   "outputs": [],
   "source": []
  }
 ],
 "metadata": {
  "kernelspec": {
   "display_name": "Python 3 (ipykernel)",
   "language": "python",
   "name": "python3"
  },
  "language_info": {
   "codemirror_mode": {
    "name": "ipython",
    "version": 3
   },
   "file_extension": ".py",
   "mimetype": "text/x-python",
   "name": "python",
   "nbconvert_exporter": "python",
   "pygments_lexer": "ipython3",
   "version": "3.11.4"
  }
 },
 "nbformat": 4,
 "nbformat_minor": 5
}
