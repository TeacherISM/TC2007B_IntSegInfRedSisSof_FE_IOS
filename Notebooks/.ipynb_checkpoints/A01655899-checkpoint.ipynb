{
 "cells": [
  {
   "cell_type": "markdown",
   "id": "fa1c38fa",
   "metadata": {},
   "source": [
    "### Nuevo Notebook"
   ]
  },
  {
   "cell_type": "code",
   "execution_count": null,
   "id": "5e5b099c",
   "metadata": {},
   "outputs": [],
   "source": [
    "print(\"¡Buenas noches! Este es mi nuevo notebook para el frontend\")"
   ]
  },
  {
   "cell_type": "markdown",
   "id": "59a87aad",
   "metadata": {},
   "source": [
    "Hola mundo "
   ]
  },
  {
   "cell_type": "code",
   "execution_count": null,
   "id": "2f56481a",
   "metadata": {},
   "outputs": [],
   "source": [
    "x = 1\n",
    "y = 2\n",
    "suma = x + y\n",
    "print(suma)"
   ]
  }
 ],
 "metadata": {
  "kernelspec": {
   "display_name": "Python 3 (ipykernel)",
   "language": "python",
   "name": "python3"
  },
  "language_info": {
   "codemirror_mode": {
    "name": "ipython",
    "version": 3
   },
   "file_extension": ".py",
   "mimetype": "text/x-python",
   "name": "python",
   "nbconvert_exporter": "python",
   "pygments_lexer": "ipython3",
   "version": "3.9.13"
  }
 },
 "nbformat": 4,
 "nbformat_minor": 5
}
