{
 "cells": [
  {
   "cell_type": "markdown",
   "id": "ca8fdb67-adb8-464c-90df-f8be22a66a10",
   "metadata": {},
   "source": [
    "<img src=\"https://javier.rodriguez.org.mx/itesm/2014/tecnologico-de-monterrey-blue-small.png\" alt=\"HTML5\" style=\"width:400px;height:100px\">\n",
    "\n",
    "# Román Mauricio Elias Valencia"
   ]
  },
  {
   "cell_type": "code",
   "execution_count": null,
   "id": "6de0113c-49e8-410e-abd2-f1bc7a89838a",
   "metadata": {},
   "outputs": [],
   "source": [
    "print(\"Hello world\")\n",
    "print(\"This is Jupyter Notebook\")"
   ]
  }
 ],
 "metadata": {
  "kernelspec": {
   "display_name": "Python 3 (ipykernel)",
   "language": "python",
   "name": "python3"
  },
  "language_info": {
   "codemirror_mode": {
    "name": "ipython",
    "version": 3
   },
   "file_extension": ".py",
   "mimetype": "text/x-python",
   "name": "python",
   "nbconvert_exporter": "python",
   "pygments_lexer": "ipython3",
   "version": "3.11.4"
  }
 },
 "nbformat": 4,
 "nbformat_minor": 5
}
