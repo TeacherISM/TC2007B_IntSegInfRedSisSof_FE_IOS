{
 "cells": [
  {
   "cell_type": "markdown",
   "id": "fccd71c0-b28f-4f6e-9f4b-403302eb6cf2",
   "metadata": {},
   "source": [
    "# Owen Rosales Castro"
   ]
  },
  {
   "cell_type": "code",
   "execution_count": 1,
   "id": "420b8585-9148-4180-afc5-8a779e97cf69",
   "metadata": {},
   "outputs": [
    {
     "name": "stdout",
     "output_type": "stream",
     "text": [
      "Hello world. :)\n"
     ]
    }
   ],
   "source": [
    "print(\"Hello world. :)\")"
   ]
  }
 ],
 "metadata": {
  "kernelspec": {
   "display_name": "Python 3 (ipykernel)",
   "language": "python",
   "name": "python3"
  },
  "language_info": {
   "codemirror_mode": {
    "name": "ipython",
    "version": 3
   },
   "file_extension": ".py",
   "mimetype": "text/x-python",
   "name": "python",
   "nbconvert_exporter": "python",
   "pygments_lexer": "ipython3",
   "version": "3.11.4"
  }
 },
 "nbformat": 4,
 "nbformat_minor": 5
}
