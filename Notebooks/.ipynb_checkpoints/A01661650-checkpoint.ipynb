{
 "cells": [
  {
   "cell_type": "markdown",
   "id": "f87c94eb-1a44-4bfd-8da7-ed37c70f4460",
   "metadata": {},
   "source": [
    "# David González Alanis\n",
    "A01661650"
   ]
  },
  {
   "cell_type": "code",
   "execution_count": 1,
   "id": "e63480e8-65ff-468b-96c5-75dbbabcd6c7",
   "metadata": {},
   "outputs": [
    {
     "name": "stdout",
     "output_type": "stream",
     "text": [
      "0\n",
      "1\n",
      "4\n",
      "9\n",
      "16\n",
      "25\n",
      "36\n",
      "49\n",
      "64\n",
      "81\n"
     ]
    }
   ],
   "source": [
    "for i in range(10):\n",
    "    print(i*i)\n",
    "    "
   ]
  },
  {
   "cell_type": "code",
   "execution_count": null,
   "id": "1df2dc19-a5a9-41c8-a50b-46eed2084d84",
   "metadata": {},
   "outputs": [],
   "source": [
    "print(\"Hola mundo\")"
   ]
  }
 ],
 "metadata": {
  "kernelspec": {
   "display_name": "Python 3 (ipykernel)",
   "language": "python",
   "name": "python3"
  },
  "language_info": {
   "codemirror_mode": {
    "name": "ipython",
    "version": 3
   },
   "file_extension": ".py",
   "mimetype": "text/x-python",
   "name": "python",
   "nbconvert_exporter": "python",
   "pygments_lexer": "ipython3",
   "version": "3.11.4"
  }
 },
 "nbformat": 4,
 "nbformat_minor": 5
}
