{
 "cells": [
  {
   "cell_type": "markdown",
   "id": "9c535b9b",
   "metadata": {},
   "source": [
    "# Hola mundo\n",
    "Carlos Mendoza"
   ]
  },
  {
   "cell_type": "code",
   "execution_count": 4,
   "id": "5267a2c0",
   "metadata": {},
   "outputs": [],
   "source": [
    "def main():\n",
    "    print(\"hola mundo\")\n",
    "\n",
    "if \"hola\"== :\n",
    "    main()"
   ]
  },
  {
   "cell_type": "code",
   "execution_count": null,
   "id": "6f69b7df",
   "metadata": {},
   "outputs": [],
   "source": []
  }
 ],
 "metadata": {
  "kernelspec": {
   "display_name": "Python 3 (ipykernel)",
   "language": "python",
   "name": "python3"
  },
  "language_info": {
   "codemirror_mode": {
    "name": "ipython",
    "version": 3
   },
   "file_extension": ".py",
   "mimetype": "text/x-python",
   "name": "python",
   "nbconvert_exporter": "python",
   "pygments_lexer": "ipython3",
   "version": "3.9.13"
  }
 },
 "nbformat": 4,
 "nbformat_minor": 5
}
