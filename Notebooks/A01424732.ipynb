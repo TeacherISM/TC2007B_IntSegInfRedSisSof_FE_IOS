{
 "cells": [
  {
   "cell_type": "markdown",
   "metadata": {},
   "source": [
    "# Basic sentences in Python and Markdown\n",
    "\n",
    "**Emiliano Vivas Rodríguez**\n",
    "\n",
    "*A01424732*\n",
    "\n",
    "Estudiante de Ingeniería en Tecnologías Computacionales (ITC).\n",
    "\n",
    "Tecnológico de Monterrey campus Ciudad de México.\n",
    "\n",
    "\n",
    "\n",
    "# Python"
   ]
  },
  {
   "cell_type": "code",
   "execution_count": 4,
   "metadata": {},
   "outputs": [
    {
     "name": "stdout",
     "output_type": "stream",
     "text": [
      "Hola mundo\n",
      "x es mayor que 3\n"
     ]
    }
   ],
   "source": [
    "print(\"Hola mundo\")\n",
    "x = 5\n",
    "y = \"John\"\n",
    "if x > 3:\n",
    "    print(\"x es mayor que 3\")"
   ]
  },
  {
   "cell_type": "markdown",
   "metadata": {},
   "source": [
    "# Markdown"
   ]
  },
  {
   "cell_type": "markdown",
   "metadata": {},
   "source": [
    "# Encabezado 1\n",
    "## Encabezado 2\n",
    "### Encabezado 3\n",
    "**Negrita**\n",
    "*Cursiva*\n",
    "[Enlace](https://www.ejemplo.com)"
   ]
  }
 ],
 "metadata": {
  "kernelspec": {
   "display_name": "Python 3",
   "language": "python",
   "name": "python3"
  },
  "language_info": {
   "codemirror_mode": {
    "name": "ipython",
    "version": 3
   },
   "file_extension": ".py",
   "mimetype": "text/x-python",
   "name": "python",
   "nbconvert_exporter": "python",
   "pygments_lexer": "ipython3",
   "version": "3.11.4"
  },
  "orig_nbformat": 4
 },
 "nbformat": 4,
 "nbformat_minor": 2
}
