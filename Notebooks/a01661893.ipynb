{
 "cells": [
  {
   "cell_type": "markdown",
   "id": "584d8e5f-5bdb-4e64-baa9-ef153db26e07",
   "metadata": {},
   "source": [
    "# César Andrés Ceballos Castillo"
   ]
  },
  {
   "cell_type": "code",
   "execution_count": 1,
   "id": "3464f7bb-ad11-472f-a267-bfdf4e06463a",
   "metadata": {},
   "outputs": [
    {
     "name": "stdout",
     "output_type": "stream",
     "text": [
      "Hola mundo\n"
     ]
    }
   ],
   "source": [
    "print(\"Hola mundo\")"
   ]
  }
 ],
 "metadata": {
  "kernelspec": {
   "display_name": "Python 3 (ipykernel)",
   "language": "python",
   "name": "python3"
  },
  "language_info": {
   "codemirror_mode": {
    "name": "ipython",
    "version": 3
   },
   "file_extension": ".py",
   "mimetype": "text/x-python",
   "name": "python",
   "nbconvert_exporter": "python",
   "pygments_lexer": "ipython3",
   "version": "3.9.17"
  }
 },
 "nbformat": 4,
 "nbformat_minor": 5
}
