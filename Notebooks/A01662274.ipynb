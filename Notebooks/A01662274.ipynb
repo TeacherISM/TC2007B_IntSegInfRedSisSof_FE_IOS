{
 "cells": [
  {
   "cell_type": "markdown",
   "metadata": {},
   "source": [
    "# Segundo Notebook A01662274 Iñaki Vigil Arrechea"
   ]
  }
 ],
 "metadata": {
  "language_info": {
   "name": "python"
  },
  "orig_nbformat": 4
 },
 "nbformat": 4,
 "nbformat_minor": 2
}
