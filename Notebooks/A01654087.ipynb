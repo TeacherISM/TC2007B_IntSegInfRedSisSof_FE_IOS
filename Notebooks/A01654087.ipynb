{
 "cells": [
  {
   "cell_type": "markdown",
   "id": "146bc32b-5643-4a72-b41e-1da624d084ec",
   "metadata": {},
   "source": [
    "# Tania Regina Ramírez Vázquez"
   ]
  },
  {
   "cell_type": "code",
   "execution_count": 1,
   "id": "f1475254-da7f-4eed-b00b-844bde9c9606",
   "metadata": {},
   "outputs": [
    {
     "name": "stdout",
     "output_type": "stream",
     "text": [
      "Hola mundo\n"
     ]
    }
   ],
   "source": [
    "print(\"Hola mundo\")"
   ]
  },
  {
   "cell_type": "code",
   "execution_count": null,
   "id": "7fc66bfc-60e3-4f37-a8b4-71c22e4a680d",
   "metadata": {},
   "outputs": [],
   "source": []
  }
 ],
 "metadata": {
  "kernelspec": {
   "display_name": "Python 3 (ipykernel)",
   "language": "python",
   "name": "python3"
  },
  "language_info": {
   "codemirror_mode": {
    "name": "ipython",
    "version": 3
   },
   "file_extension": ".py",
   "mimetype": "text/x-python",
   "name": "python",
   "nbconvert_exporter": "python",
   "pygments_lexer": "ipython3",
   "version": "3.11.4"
  }
 },
 "nbformat": 4,
 "nbformat_minor": 5
}
