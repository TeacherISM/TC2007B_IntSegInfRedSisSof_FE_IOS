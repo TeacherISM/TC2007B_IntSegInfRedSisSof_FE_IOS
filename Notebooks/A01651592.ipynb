{
 "cells": [
  {
   "cell_type": "markdown",
   "id": "1de0ea8c-b7d4-4a0f-b040-0f128ac786b5",
   "metadata": {},
   "source": [
    "### ADRIAN"
   ]
  },
  {
   "cell_type": "code",
   "execution_count": 1,
   "id": "7f4f2e08-a997-40fc-a200-1d66f2db9522",
   "metadata": {},
   "outputs": [
    {
     "name": "stdout",
     "output_type": "stream",
     "text": [
      "hola\n"
     ]
    }
   ],
   "source": [
    "print(\"hola\")"
   ]
  },
  {
   "cell_type": "code",
   "execution_count": null,
   "id": "fb280eb9-5eec-41a9-b72c-b32030e68594",
   "metadata": {},
   "outputs": [],
   "source": []
  }
 ],
 "metadata": {
  "kernelspec": {
   "display_name": "Python 3 (ipykernel)",
   "language": "python",
   "name": "python3"
  },
  "language_info": {
   "codemirror_mode": {
    "name": "ipython",
    "version": 3
   },
   "file_extension": ".py",
   "mimetype": "text/x-python",
   "name": "python",
   "nbconvert_exporter": "python",
   "pygments_lexer": "ipython3",
   "version": "3.11.0"
  }
 },
 "nbformat": 4,
 "nbformat_minor": 5
}
